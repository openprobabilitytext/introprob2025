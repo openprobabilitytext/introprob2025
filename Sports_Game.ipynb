{
  "nbformat": 4,
  "nbformat_minor": 0,
  "metadata": {
    "colab": {
      "provenance": [],
      "authorship_tag": "ABX9TyOciwbH73BnmL9HKf91pK/l",
      "include_colab_link": true
    },
    "kernelspec": {
      "name": "python3",
      "display_name": "Python 3"
    },
    "language_info": {
      "name": "python"
    }
  },
  "cells": [
    {
      "cell_type": "markdown",
      "metadata": {
        "id": "view-in-github",
        "colab_type": "text"
      },
      "source": [
        "<a href=\"https://colab.research.google.com/github/openprobabilitytext/openprobabilitytext/blob/main/Sports_Game.ipynb\" target=\"_parent\"><img src=\"https://colab.research.google.com/assets/colab-badge.svg\" alt=\"Open In Colab\"/></a>"
      ]
    },
    {
      "cell_type": "code",
      "execution_count": 6,
      "metadata": {
        "colab": {
          "base_uri": "https://localhost:8080/",
          "height": 106
        },
        "id": "OIlDrdG9F8Yj",
        "outputId": "47e14769-9abb-472b-bea5-41d7ca49b88b"
      },
      "outputs": [
        {
          "output_type": "error",
          "ename": "SyntaxError",
          "evalue": "invalid syntax (<ipython-input-6-9100a404ed15>, line 1)",
          "traceback": [
            "\u001b[0;36m  File \u001b[0;32m\"<ipython-input-6-9100a404ed15>\"\u001b[0;36m, line \u001b[0;32m1\u001b[0m\n\u001b[0;31m    https://github.com/drvinceknight/Nashpy.git\u001b[0m\n\u001b[0m          ^\u001b[0m\n\u001b[0;31mSyntaxError\u001b[0m\u001b[0;31m:\u001b[0m invalid syntax\n"
          ]
        }
      ],
      "source": [
        "import numpy as np\n",
        "import pandas as pd\n",
        "import sympy as sym\n",
        "import nashpy as nash\n",
        "\n",
        "# Step 1: Create the dataset (100 observations)\n",
        "data = [\n",
        "    ['Left', 'Left', 0], ['Center', 'Left', 1], ['Right', 'Center', 0], ['Left', 'Right', 1], ['Right', 'Right', 1],\n",
        "    ['Center', 'Center', 0], ['Left', 'Center', 0], ['Right', 'Left', 0], ['Center', 'Right', 1], ['Left', 'Center', 1],\n",
        "    ['Left', 'Right', 1], ['Center', 'Right', 1], ['Right', 'Left', 1], ['Right', 'Right', 0], ['Center', 'Left', 0],\n",
        "    ['Left', 'Left', 0], ['Right', 'Center', 0], ['Left', 'Center', 1], ['Right', 'Center', 0], ['Left', 'Right', 1],\n",
        "    ['Center', 'Center', 1], ['Right', 'Left', 1], ['Center', 'Left', 1], ['Left', 'Left', 0], ['Right', 'Right', 0],\n",
        "    ['Left', 'Right', 0], ['Center', 'Right', 0], ['Center', 'Left', 1], ['Right', 'Left', 0], ['Left', 'Right', 0],\n",
        "    ['Right', 'Center', 1], ['Center', 'Center', 0], ['Right', 'Left', 0], ['Left', 'Left', 0], ['Right', 'Center', 1],\n",
        "    ['Left', 'Right', 1], ['Center', 'Left', 0], ['Right', 'Left', 0], ['Center', 'Right', 1], ['Left', 'Left', 0],\n",
        "    ['Center', 'Left', 1], ['Right', 'Right', 0], ['Right', 'Center', 0], ['Left', 'Left', 1], ['Right', 'Center', 1],\n",
        "    ['Left', 'Right', 0], ['Center', 'Left', 0], ['Right', 'Left', 1], ['Left', 'Left', 1], ['Right', 'Center', 0],\n",
        "    ['Center', 'Right', 1], ['Left', 'Center', 0], ['Right', 'Right', 1], ['Left', 'Center', 1], ['Center', 'Left', 1],\n",
        "    ['Right', 'Left', 0], ['Left', 'Left', 0], ['Center', 'Center', 1], ['Right', 'Right', 0], ['Left', 'Center', 1],\n",
        "    ['Right', 'Center', 1], ['Center', 'Left', 0], ['Right', 'Right', 0], ['Left', 'Left', 1], ['Right', 'Center', 1],\n",
        "    ['Left', 'Center', 0], ['Center', 'Right', 0], ['Left', 'Left', 1], ['Right', 'Left', 1], ['Center', 'Left', 1],\n",
        "    ['Right', 'Center', 1], ['Center', 'Left', 1], ['Right', 'Right', 1], ['Left', 'Left', 1], ['Right', 'Left', 0],\n",
        "    ['Center', 'Right', 0], ['Left', 'Center', 0], ['Right', 'Center', 1], ['Left', 'Right', 0], ['Right', 'Left', 1],\n",
        "    ['Center', 'Left', 1], ['Left', 'Center', 0], ['Right', 'Right', 1], ['Center', 'Right', 1], ['Left', 'Right', 1],\n",
        "    ['Right', 'Center', 1], ['Center', 'Center', 0], ['Right', 'Left', 1], ['Left', 'Left', 1], ['Center', 'Left', 1],\n",
        "    ['Right', 'Right', 0], ['Left', 'Right', 1], ['Center', 'Left', 0], ['Right', 'Left', 0], ['Left', 'Left', 0],\n",
        "    ['Right', 'Center', 0], ['Left', 'Right', 0], ['Center', 'Right', 1], ['Left', 'Left', 1], ['Right', 'Right', 0],\n",
        "    ['Left', 'Center', 1]\n",
        "]\n",
        "\n",
        "# Step 2: Convert dataset into a DataFrame for easy manipulation\n",
        "df = pd.DataFrame(data, columns=[\"Shooter's Shot Position\", \"Goalkeeper's Dive Position\", \"Result\"])\n",
        "\n",
        "# Step 3: Create the Payoff Matrix\n",
        "# Initialize the payoff matrix for the shooter and goalkeeper\n",
        "payoff_shooter = np.zeros((3, 3))\n",
        "payoff_goalkeeper = np.zeros((3, 3))\n",
        "\n",
        "# Map positions to indices for the matrix\n",
        "shot_mapping = {'Left': 0, 'Center': 1, 'Right': 2}\n",
        "dive_mapping = {'Left': 0, 'Center': 1, 'Right': 2}\n",
        "\n",
        "# Populate the payoff matrices\n",
        "for _, row in df.iterrows():\n",
        "    shot = row[\"Shooter's Shot Position\"]\n",
        "    dive = row[\"Goalkeeper's Dive Position\"]\n",
        "    result = row[\"Result\"]\n",
        "\n",
        "    # Shooter's payoff: 1 for goal (success), 0 for save (failure)\n",
        "    payoff_shooter[shot_mapping[shot], dive_mapping[dive]] += result\n",
        "\n",
        "    # Goalkeeper's payoff: 1 for save (failure for shooter), 0 for goal (success for shooter)\n",
        "    payoff_goalkeeper[shot_mapping[shot], dive_mapping[dive]] += (1 - result)\n",
        "\n",
        "# Step 4: Define the game using Nashpy\n",
        "game = nash.Game(payoff_shooter, payoff_goalkeeper)\n",
        "\n",
        "# Step 5: Compute the Nash Equilibrium\n",
        "equilibria = game.support_enumeration()\n",
        "\n",
        "# Step 6: Print out the Nash Equilibria for both shooter and goalkeeper\n",
        "print(\"Nash Equilibria (Shooter's and Goalkeeper's strategies):\")\n",
        "for eq in equilibria:\n",
        "    print(f\"Shooter's mixed strategy: {eq[0]}\")\n",
        "    print(f\"Goalkeeper's mixed strategy: {eq[1]}\")\n"
      ]
    }
  ]
}